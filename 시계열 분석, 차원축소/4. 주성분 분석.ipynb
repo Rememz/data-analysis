{
 "cells": [
  {
   "cell_type": "markdown",
   "metadata": {},
   "source": [
    "## PCA"
   ]
  },
  {
   "cell_type": "code",
   "execution_count": 2,
   "metadata": {},
   "outputs": [],
   "source": [
    "# 경고 문구 없애기\n",
    "import warnings\n",
    "warnings.filterwarnings('ignore') "
   ]
  },
  {
   "cell_type": "markdown",
   "metadata": {},
   "source": [
    "### 1. 데이터 불러오기"
   ]
  },
  {
   "cell_type": "code",
   "execution_count": 4,
   "metadata": {},
   "outputs": [
    {
     "name": "stderr",
     "output_type": "stream",
     "text": [
      "[***********           22%%                      ]  2 of 9 completed"
     ]
    },
    {
     "name": "stderr",
     "output_type": "stream",
     "text": [
      "[*********************100%%**********************]  9 of 9 completed\n"
     ]
    }
   ],
   "source": [
    "import pandas as pd\n",
    "import numpy as np\n",
    "import matplotlib.pyplot as plt\n",
    "import seaborn as sns\n",
    "import yfinance as yf\n",
    "\n",
    "# 한글포트 출력\n",
    "plt.rcParams['font.family'] = 'Malgun Gothic'\n",
    "plt.rcParams['axes.unicode_minus'] = False\n",
    "\n",
    "# 삼성전자, KOSPI 데이터 불러오기\n",
    "stock_price = yf.download({'005930.KS','000660.KS','207940.KS','005380.KS',\n",
    "                           '068270.KS','000270.KS','105560.KS','035420.KS','005490.KS'}, '2020-01-01', '2023-12-31')\n",
    "\n",
    "# 수정종가 데이터 가져오기\n",
    "df = stock_price['Adj Close']\n",
    "# 수익률 데이터로 변경하기\n",
    "df = stock_price[\"Adj Close\"].pct_change()*100\n",
    "df = df.dropna()\n",
    "# 편의를 위한 컬럼명 변경\n",
    "df.columns = ['기아',\"SK하이닉스\",\"현대차\",\"POSCO 홀딩스\",\"삼성전자\", \"NAVER\", \"셀트리온\", \"KB금융\", \"삼성 바이오로직스\"]"
   ]
  },
  {
   "cell_type": "markdown",
   "metadata": {},
   "source": [
    "### 2. PCA 구현하기"
   ]
  },
  {
   "cell_type": "code",
   "execution_count": 14,
   "metadata": {},
   "outputs": [
    {
     "name": "stdout",
     "output_type": "stream",
     "text": [
      "Explained variance ratios: [0.39628765 0.1623158  0.10461327 0.10333399 0.06873325 0.06063951\n",
      " 0.05825204 0.02641685 0.01940763]\n",
      "Cumulative explained variance: [0.39628765 0.55860345 0.66321672 0.76655071 0.83528396 0.89592347\n",
      " 0.95417552 0.98059237 1.        ]\n"
     ]
    }
   ],
   "source": [
    "import numpy as np\n",
    "import pandas as pd\n",
    "from sklearn.decomposition import PCA\n",
    "from sklearn.preprocessing import StandardScaler\n",
    "\n",
    "# PCA 모델 생성 (주성분의 수는 데이터 차원보다 작게 설정)\n",
    "pca = PCA(n_components=9)  # 설명 변수가 9개이므로 최대 9를 보면서 어떻게 변하는지 지켜보기\n",
    "pca_result = pca.fit_transform(df)\n",
    "\n",
    "# 주성분의 설명 분산 비율\n",
    "explained_variance = pca.explained_variance_ratio_\n",
    "explained_variance_ratio = explained_variance\n",
    "cumulative_variance_ratio = np.cumsum(explained_variance)\n",
    "# 결과 출력 각 주성분의 개수에 따른 설명 분산 출력\n",
    "print(f'Explained variance ratios: {explained_variance}')\n",
    "\n",
    "# 설명변수 누적합 출력\n",
    "print(f'Cumulative explained variance: {np.cumsum(explained_variance)}')"
   ]
  },
  {
   "cell_type": "markdown",
   "metadata": {},
   "source": [
    "### 3. PCA_DF 확인하기"
   ]
  },
  {
   "cell_type": "code",
   "execution_count": 15,
   "metadata": {},
   "outputs": [
    {
     "data": {
      "text/html": [
       "<div>\n",
       "<style scoped>\n",
       "    .dataframe tbody tr th:only-of-type {\n",
       "        vertical-align: middle;\n",
       "    }\n",
       "\n",
       "    .dataframe tbody tr th {\n",
       "        vertical-align: top;\n",
       "    }\n",
       "\n",
       "    .dataframe thead th {\n",
       "        text-align: right;\n",
       "    }\n",
       "</style>\n",
       "<table border=\"1\" class=\"dataframe\">\n",
       "  <thead>\n",
       "    <tr style=\"text-align: right;\">\n",
       "      <th></th>\n",
       "      <th>PC1</th>\n",
       "      <th>PC2</th>\n",
       "      <th>PC3</th>\n",
       "      <th>PC4</th>\n",
       "      <th>PC5</th>\n",
       "      <th>PC6</th>\n",
       "      <th>PC7</th>\n",
       "      <th>PC8</th>\n",
       "      <th>PC9</th>\n",
       "    </tr>\n",
       "  </thead>\n",
       "  <tbody>\n",
       "    <tr>\n",
       "      <th>0</th>\n",
       "      <td>-1.778651</td>\n",
       "      <td>-1.224901</td>\n",
       "      <td>0.866323</td>\n",
       "      <td>1.838579</td>\n",
       "      <td>0.662673</td>\n",
       "      <td>-1.330728</td>\n",
       "      <td>0.368190</td>\n",
       "      <td>-0.174912</td>\n",
       "      <td>0.798347</td>\n",
       "    </tr>\n",
       "    <tr>\n",
       "      <th>1</th>\n",
       "      <td>-3.353649</td>\n",
       "      <td>-1.710904</td>\n",
       "      <td>1.462569</td>\n",
       "      <td>-2.112801</td>\n",
       "      <td>0.452912</td>\n",
       "      <td>-0.564059</td>\n",
       "      <td>-0.605332</td>\n",
       "      <td>0.365244</td>\n",
       "      <td>0.253980</td>\n",
       "    </tr>\n",
       "    <tr>\n",
       "      <th>2</th>\n",
       "      <td>2.746397</td>\n",
       "      <td>3.102240</td>\n",
       "      <td>0.693189</td>\n",
       "      <td>0.349785</td>\n",
       "      <td>-2.178734</td>\n",
       "      <td>-1.020385</td>\n",
       "      <td>0.764488</td>\n",
       "      <td>-0.562345</td>\n",
       "      <td>0.494514</td>\n",
       "    </tr>\n",
       "    <tr>\n",
       "      <th>3</th>\n",
       "      <td>-3.786089</td>\n",
       "      <td>-1.377374</td>\n",
       "      <td>4.155974</td>\n",
       "      <td>0.563327</td>\n",
       "      <td>3.923781</td>\n",
       "      <td>1.026751</td>\n",
       "      <td>-1.804857</td>\n",
       "      <td>-0.966088</td>\n",
       "      <td>1.040341</td>\n",
       "    </tr>\n",
       "    <tr>\n",
       "      <th>4</th>\n",
       "      <td>3.723214</td>\n",
       "      <td>2.380579</td>\n",
       "      <td>1.339979</td>\n",
       "      <td>2.961241</td>\n",
       "      <td>0.207867</td>\n",
       "      <td>1.365503</td>\n",
       "      <td>0.485897</td>\n",
       "      <td>0.751466</td>\n",
       "      <td>1.900474</td>\n",
       "    </tr>\n",
       "    <tr>\n",
       "      <th>...</th>\n",
       "      <td>...</td>\n",
       "      <td>...</td>\n",
       "      <td>...</td>\n",
       "      <td>...</td>\n",
       "      <td>...</td>\n",
       "      <td>...</td>\n",
       "      <td>...</td>\n",
       "      <td>...</td>\n",
       "      <td>...</td>\n",
       "    </tr>\n",
       "    <tr>\n",
       "      <th>979</th>\n",
       "      <td>-1.325472</td>\n",
       "      <td>0.415667</td>\n",
       "      <td>-0.674831</td>\n",
       "      <td>-1.438709</td>\n",
       "      <td>1.923491</td>\n",
       "      <td>-0.784261</td>\n",
       "      <td>-0.654285</td>\n",
       "      <td>-0.219786</td>\n",
       "      <td>0.500770</td>\n",
       "    </tr>\n",
       "    <tr>\n",
       "      <th>980</th>\n",
       "      <td>-0.871334</td>\n",
       "      <td>-0.160188</td>\n",
       "      <td>0.478419</td>\n",
       "      <td>-1.333281</td>\n",
       "      <td>0.675125</td>\n",
       "      <td>1.662888</td>\n",
       "      <td>0.678047</td>\n",
       "      <td>0.233460</td>\n",
       "      <td>1.087972</td>\n",
       "    </tr>\n",
       "    <tr>\n",
       "      <th>981</th>\n",
       "      <td>0.610391</td>\n",
       "      <td>1.641283</td>\n",
       "      <td>0.042725</td>\n",
       "      <td>-1.342550</td>\n",
       "      <td>0.714745</td>\n",
       "      <td>-0.626074</td>\n",
       "      <td>-0.186036</td>\n",
       "      <td>-0.377485</td>\n",
       "      <td>0.865558</td>\n",
       "    </tr>\n",
       "    <tr>\n",
       "      <th>982</th>\n",
       "      <td>3.485411</td>\n",
       "      <td>0.230046</td>\n",
       "      <td>1.230228</td>\n",
       "      <td>2.304332</td>\n",
       "      <td>-3.533882</td>\n",
       "      <td>0.870773</td>\n",
       "      <td>-0.734961</td>\n",
       "      <td>-0.358203</td>\n",
       "      <td>1.944467</td>\n",
       "    </tr>\n",
       "    <tr>\n",
       "      <th>983</th>\n",
       "      <td>7.428224</td>\n",
       "      <td>3.371612</td>\n",
       "      <td>-3.596741</td>\n",
       "      <td>-0.389068</td>\n",
       "      <td>0.961808</td>\n",
       "      <td>-0.688317</td>\n",
       "      <td>1.493017</td>\n",
       "      <td>-0.356008</td>\n",
       "      <td>-0.369810</td>\n",
       "    </tr>\n",
       "  </tbody>\n",
       "</table>\n",
       "<p>984 rows × 9 columns</p>\n",
       "</div>"
      ],
      "text/plain": [
       "          PC1       PC2       PC3       PC4       PC5       PC6       PC7  \\\n",
       "0   -1.778651 -1.224901  0.866323  1.838579  0.662673 -1.330728  0.368190   \n",
       "1   -3.353649 -1.710904  1.462569 -2.112801  0.452912 -0.564059 -0.605332   \n",
       "2    2.746397  3.102240  0.693189  0.349785 -2.178734 -1.020385  0.764488   \n",
       "3   -3.786089 -1.377374  4.155974  0.563327  3.923781  1.026751 -1.804857   \n",
       "4    3.723214  2.380579  1.339979  2.961241  0.207867  1.365503  0.485897   \n",
       "..        ...       ...       ...       ...       ...       ...       ...   \n",
       "979 -1.325472  0.415667 -0.674831 -1.438709  1.923491 -0.784261 -0.654285   \n",
       "980 -0.871334 -0.160188  0.478419 -1.333281  0.675125  1.662888  0.678047   \n",
       "981  0.610391  1.641283  0.042725 -1.342550  0.714745 -0.626074 -0.186036   \n",
       "982  3.485411  0.230046  1.230228  2.304332 -3.533882  0.870773 -0.734961   \n",
       "983  7.428224  3.371612 -3.596741 -0.389068  0.961808 -0.688317  1.493017   \n",
       "\n",
       "          PC8       PC9  \n",
       "0   -0.174912  0.798347  \n",
       "1    0.365244  0.253980  \n",
       "2   -0.562345  0.494514  \n",
       "3   -0.966088  1.040341  \n",
       "4    0.751466  1.900474  \n",
       "..        ...       ...  \n",
       "979 -0.219786  0.500770  \n",
       "980  0.233460  1.087972  \n",
       "981 -0.377485  0.865558  \n",
       "982 -0.358203  1.944467  \n",
       "983 -0.356008 -0.369810  \n",
       "\n",
       "[984 rows x 9 columns]"
      ]
     },
     "execution_count": 15,
     "metadata": {},
     "output_type": "execute_result"
    }
   ],
   "source": [
    "# 주성분 데이터프레임 생성\n",
    "pca_df = pd.DataFrame(data=pca_result, columns=[f'PC{i+1}' for i in range(pca_result.shape[1])])\n",
    "pca_df"
   ]
  },
  {
   "cell_type": "markdown",
   "metadata": {},
   "source": [
    "### 4. 최적 주성분 개수 찾기"
   ]
  },
  {
   "cell_type": "code",
   "execution_count": 16,
   "metadata": {},
   "outputs": [
    {
     "data": {
      "image/png": "[encoded data removed]",
      "text/plain": [
       "<Figure size 1200x600 with 2 Axes>"
      ]
     },
     "metadata": {},
     "output_type": "display_data"
    }
   ],
   "source": [
    "# 85% 이상 되는 주성분 개수 결정\n",
    "num_components = np.argmax(cumulative_variance_ratio >= 0.85) + 1\n",
    "\n",
    "# 스크리 도표와 누적 기여율 시각화\n",
    "plt.figure(figsize=(12, 6))\n",
    "\n",
    "# 스크리 도표\n",
    "plt.subplot(1, 2, 1)\n",
    "plt.plot(range(1, len(explained_variance_ratio) + 1), explained_variance_ratio, marker='o', linestyle='--')\n",
    "for i, v in enumerate(explained_variance_ratio):\n",
    "    plt.text(i + 1, v + 0.01, f\"{v:.2f}\", ha='center', fontsize=10)\n",
    "plt.title('Scree Plot')\n",
    "plt.xlabel('Principal Component')\n",
    "plt.ylabel('Explained Variance Ratio')\n",
    "plt.xticks(range(1, len(explained_variance_ratio) + 1))\n",
    "plt.grid(True)\n",
    "\n",
    "# 누적 기여율\n",
    "plt.subplot(1, 2, 2)\n",
    "plt.plot(range(1, len(cumulative_variance_ratio) + 1), cumulative_variance_ratio, marker='o', linestyle='--', color='r')\n",
    "for i, v in enumerate(cumulative_variance_ratio):\n",
    "    plt.text(i + 1, v + 0.02, f\"{v:.2f}\", ha='center', fontsize=10)\n",
    "plt.axhline(y=0.85, color='b', linestyle='--')\n",
    "plt.title('Cumulative Explained Variance')\n",
    "plt.xlabel('Number of Principal Components')\n",
    "plt.ylabel('Cumulative Explained Variance')\n",
    "plt.xticks(range(1, len(cumulative_variance_ratio) + 1))\n",
    "plt.grid(True)\n",
    "\n",
    "plt.tight_layout()\n",
    "plt.show()"
   ]
  },
  {
   "cell_type": "markdown",
   "metadata": {},
   "source": [
    "### 5. 최적 주성분 개수로 진행"
   ]
  },
  {
   "cell_type": "code",
   "execution_count": 18,
   "metadata": {},
   "outputs": [
    {
     "name": "stdout",
     "output_type": "stream",
     "text": [
      "Explained variance ratios: [0.39628765 0.1623158 ]\n",
      "Cumulative explained variance: [0.39628765 0.55860345]\n"
     ]
    },
    {
     "data": {
      "text/html": [
       "<div>\n",
       "<style scoped>\n",
       "    .dataframe tbody tr th:only-of-type {\n",
       "        vertical-align: middle;\n",
       "    }\n",
       "\n",
       "    .dataframe tbody tr th {\n",
       "        vertical-align: top;\n",
       "    }\n",
       "\n",
       "    .dataframe thead th {\n",
       "        text-align: right;\n",
       "    }\n",
       "</style>\n",
       "<table border=\"1\" class=\"dataframe\">\n",
       "  <thead>\n",
       "    <tr style=\"text-align: right;\">\n",
       "      <th></th>\n",
       "      <th>PC1</th>\n",
       "      <th>PC2</th>\n",
       "    </tr>\n",
       "  </thead>\n",
       "  <tbody>\n",
       "    <tr>\n",
       "      <th>0</th>\n",
       "      <td>-1.778651</td>\n",
       "      <td>-1.224901</td>\n",
       "    </tr>\n",
       "    <tr>\n",
       "      <th>1</th>\n",
       "      <td>-3.353649</td>\n",
       "      <td>-1.710904</td>\n",
       "    </tr>\n",
       "    <tr>\n",
       "      <th>2</th>\n",
       "      <td>2.746397</td>\n",
       "      <td>3.102240</td>\n",
       "    </tr>\n",
       "    <tr>\n",
       "      <th>3</th>\n",
       "      <td>-3.786089</td>\n",
       "      <td>-1.377374</td>\n",
       "    </tr>\n",
       "    <tr>\n",
       "      <th>4</th>\n",
       "      <td>3.723214</td>\n",
       "      <td>2.380579</td>\n",
       "    </tr>\n",
       "  </tbody>\n",
       "</table>\n",
       "</div>"
      ],
      "text/plain": [
       "        PC1       PC2\n",
       "0 -1.778651 -1.224901\n",
       "1 -3.353649 -1.710904\n",
       "2  2.746397  3.102240\n",
       "3 -3.786089 -1.377374\n",
       "4  3.723214  2.380579"
      ]
     },
     "execution_count": 18,
     "metadata": {},
     "output_type": "execute_result"
    }
   ],
   "source": [
    "import numpy as np\n",
    "import pandas as pd\n",
    "from sklearn.decomposition import PCA\n",
    "from sklearn.preprocessing import StandardScaler\n",
    "\n",
    "\n",
    "# PCA 모델 생성 (주성분의 수는 데이터 차원보다 작게 설정)\n",
    "pca = PCA(n_components=2) \n",
    "pca_result = pca.fit_transform(df)\n",
    "\n",
    "# 주성분의 설명 분산 비율\n",
    "explained_variance = pca.explained_variance_ratio_\n",
    "\n",
    "# 결과 출력 각 주성분의 개수에 따른 설명 분산 출력\n",
    "print(f'Explained variance ratios: {explained_variance}')\n",
    "\n",
    "# 설명변수 누적합 출력\n",
    "print(f'Cumulative explained variance: {np.cumsum(explained_variance)}')\n",
    "\n",
    "\n",
    "# 주성분 데이터프레임 생성\n",
    "pca_df = pd.DataFrame(data=pca_result, columns=[f'PC{i+1}' for i in range(pca_result.shape[1])])\n",
    "pca_df.head()\n"
   ]
  },
  {
   "cell_type": "code",
   "execution_count": null,
   "metadata": {},
   "outputs": [],
   "source": []
  }
 ],
 "metadata": {
  "kernelspec": {
   "display_name": "Python 3",
   "language": "python",
   "name": "python3"
  },
  "language_info": {
   "codemirror_mode": {
    "name": "ipython",
    "version": 3
   },
   "file_extension": ".py",
   "mimetype": "text/x-python",
   "name": "python",
   "nbconvert_exporter": "python",
   "pygments_lexer": "ipython3",
   "version": "3.9.6"
  }
 },
 "nbformat": 4,
 "nbformat_minor": 2
}
