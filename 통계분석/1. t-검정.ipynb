{
 "cells": [
  {
   "cell_type": "markdown",
   "metadata": {},
   "source": [
    "## t-검정"
   ]
  },
  {
   "cell_type": "markdown",
   "metadata": {},
   "source": [
    "### 1. 정규성 검정하기"
   ]
  },
  {
   "cell_type": "markdown",
   "metadata": {},
   "source": [
    "#### 1) 샤피로 윌크 검정"
   ]
  },
  {
   "cell_type": "code",
   "execution_count": 2,
   "metadata": {},
   "outputs": [
    {
     "data": {
      "text/plain": [
       "ShapiroResult(statistic=0.9723096489906311, pvalue=1.2739533921865814e-14)"
      ]
     },
     "execution_count": 2,
     "metadata": {},
     "output_type": "execute_result"
    }
   ],
   "source": [
    "from scipy import stats\n",
    "import FinanceDataReader as fdr #금융데이터 라이브러리\n",
    "\n",
    "df = fdr.DataReader(\"005930\",\"2019-01-01\",\"2023-12-31\")\n",
    "sm = df[\"Change\"]\n",
    "\n",
    "stats.shapiro(sm)"
   ]
  },
  {
   "cell_type": "markdown",
   "metadata": {},
   "source": [
    "#### 2) 콜모고로프 스미르토프 검정(K-S 검정)"
   ]
  },
  {
   "cell_type": "code",
   "execution_count": 7,
   "metadata": {},
   "outputs": [
    {
     "data": {
      "text/plain": [
       "KstestResult(statistic=0.4776485019150022, pvalue=0.0, statistic_location=-0.046606704824202816, statistic_sign=-1)"
      ]
     },
     "execution_count": 7,
     "metadata": {},
     "output_type": "execute_result"
    }
   ],
   "source": [
    "from scipy.stats import norm\n",
    "from scipy.stats import kstest\n",
    "import FinanceDataReader as fdr #금융데이터 라이브러리\n",
    "\n",
    "df = fdr.DataReader(\"005930\",\"2010-01-01\",\"2023-12-31\")\n",
    "sm = df[\"Change\"]\n",
    "\n",
    "kstest(sm,'norm')"
   ]
  },
  {
   "cell_type": "markdown",
   "metadata": {},
   "source": [
    "## 2. 일 표본 t-검정\n",
    "\n",
    "- 단일 모집단에서 관심이 있는 연속형 변수의 평균값을 특정 기준값과 비교 하고자 할 때 사용 모집단의 구성요소들이 정규분포를 이룬다는 가정하에서 검정하게 된다.\n",
    "- 귀무가설 (Null Hypothesis, H₀): 삼성전자의 일 평균수익률은 0.02%이다.\n",
    "- 대립가설 (Alternative Hypothesis, H₁): 삼성전자의 일 평균수익률은 0.02%이 아니다."
   ]
  },
  {
   "cell_type": "code",
   "execution_count": 9,
   "metadata": {},
   "outputs": [
    {
     "data": {
      "text/plain": [
       "TtestResult(statistic=1.5563945247345723, pvalue=0.1209103840649917, df=244)"
      ]
     },
     "execution_count": 9,
     "metadata": {},
     "output_type": "execute_result"
    }
   ],
   "source": [
    "from scipy.stats import ttest_1samp\n",
    "import FinanceDataReader as fdr\n",
    "\n",
    "df = fdr.DataReader(\"005930\",\"2023-01-01\",\"2023-12-31\")\n",
    "sm = df[\"Change\"]*100\n",
    "\n",
    "# 일표본 t-검정 수행 (일일 기대값 수익률 0.02%(5/250) 와 비교)\n",
    "ttest_1samp(sm, 0.02)"
   ]
  },
  {
   "cell_type": "markdown",
   "metadata": {},
   "source": [
    "## 3. 대응 표본 t-검정\n",
    "- 단일 모집단에 대해 두 번의 처리를 가했을 때, 두 개의 처리에 따른 평균의 차이를 비교하는 방법\n",
    "- 모집단의 관측 값이 정규성을 만족해야 하며 일반적으로 표본의 크기가 충분히 클 때 중심극한 정리에 따라 정규성을 만족한다고 본다.\n",
    "- 귀무가설 (Null Hypothesis, H₀): 삼성전자의 2023년 일일 수익률의 평균과 2022년의 일일 수익률의 평균에는 차이가 없다.\n",
    "- 대립가설 (Alternative Hypothesis, H₁): 삼성전자의 2023년 일일 수익률의 평균과 2022년의 일일 수익률의 평균에는 차이가 있다."
   ]
  },
  {
   "cell_type": "code",
   "execution_count": 10,
   "metadata": {},
   "outputs": [
    {
     "name": "stdout",
     "output_type": "stream",
     "text": [
      "TtestResult(statistic=2.1751138543428463, pvalue=0.03058226127710367, df=244)\n"
     ]
    }
   ],
   "source": [
    "from scipy.stats import ttest_rel\n",
    "import FinanceDataReader as fdr\n",
    "\n",
    "# 삼성전자 주가데이터 불러오기\n",
    "df_2023 = fdr.DataReader(\"005930\",\"2023-01-01\",\"2023-12-31\")\n",
    "df_2022 = fdr.DataReader(\"005930\",\"2022-01-01\",\"2022-12-31\")\n",
    "\n",
    "# 2023과 2022년의 삼성전자 수익률\n",
    "# 예시를 위한 데이터 개수 245개로 일치\n",
    "sm_2023 = df_2023[\"Change\"][:245]\n",
    "sm_2022 = df_2022[\"Change\"][:245]\n",
    "\n",
    "# 대응표본 t-검정 수행\n",
    "print(ttest_rel(sm_2023, sm_2022))\n",
    "\n",
    "# 결과\n",
    "# TtestResult(statistic=2.1751138543428463, pvalue=0.03058226127710367, df=244)"
   ]
  },
  {
   "cell_type": "markdown",
   "metadata": {},
   "source": [
    "## 4. 독립 표본 t-검정\n",
    "- 두 개의 독립된 모집단의 평균을 비교하고자 할 때 사용하는 검정 방법\n",
    "- 두 모집단은 정규성과 등 분산성을 만족하여야 하며 서로 독립적이어야 한다.\n",
    "- 귀무가설 (Null Hypothesis, H₀): 삼성전자의 2023년의 일 평균수익률과 SK하이닉스의 2023년 일 평균수익률에는 차이가 없다.\n",
    "- 대립가설 (Alternative Hypothesis, H₁): 삼성전자의 2023년의 일 평균수익률과 SK하이닉스의 2023년 일 평균수익률에는 차이가 있다"
   ]
  },
  {
   "cell_type": "code",
   "execution_count": 11,
   "metadata": {},
   "outputs": [
    {
     "name": "stdout",
     "output_type": "stream",
     "text": [
      "TtestResult(statistic=-0.8002502991735784, pvalue=0.42404100676353373, df=399.83090072713117)\n"
     ]
    }
   ],
   "source": [
    "from scipy.stats import ttest_ind, levene\n",
    "import FinanceDataReader as fdr\n",
    "\n",
    "# 삼성전자와 sk하이닉스 주가데이터 불러오기\n",
    "df_sm = fdr.DataReader(\"005930\",\"2023-01-01\",\"2023-12-31\")\n",
    "df_sk = fdr.DataReader(\"000660\",\"2023-01-01\",\"2023-12-31\")\n",
    "\n",
    "# 삼성전자와 하이닉스의 수익률\n",
    "sm = df_sm[\"Change\"]\n",
    "sk = df_sk[\"Change\"]\n",
    "\n",
    "# 대응표본 t-검정 수행\n",
    "print(ttest_ind(sm, sk, equal_var=False))"
   ]
  }
 ],
 "metadata": {
  "kernelspec": {
   "display_name": "Python 3",
   "language": "python",
   "name": "python3"
  },
  "language_info": {
   "codemirror_mode": {
    "name": "ipython",
    "version": 3
   },
   "file_extension": ".py",
   "mimetype": "text/x-python",
   "name": "python",
   "nbconvert_exporter": "python",
   "pygments_lexer": "ipython3",
   "version": "3.9.6"
  }
 },
 "nbformat": 4,
 "nbformat_minor": 2
}
